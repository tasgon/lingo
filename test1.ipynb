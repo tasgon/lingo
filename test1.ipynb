{
 "cells": [
  {
   "cell_type": "code",
   "execution_count": 2,
   "metadata": {},
   "outputs": [
    {
     "name": "stderr",
     "output_type": "stream",
     "text": [
      "/opt/conda/lib/python3.9/site-packages/tqdm/auto.py:21: TqdmWarning: IProgress not found. Please update jupyter and ipywidgets. See https://ipywidgets.readthedocs.io/en/stable/user_install.html\n",
      "  from .autonotebook import tqdm as notebook_tqdm\n"
     ]
    }
   ],
   "source": [
    "import torch\n",
    "import torch.nn.functional as F\n",
    "from torch.optim import Adam\n",
    "from transformers import T5ForConditionalGeneration, T5Tokenizer\n",
    "from sentence_transformers import SentenceTransformer"
   ]
  },
  {
   "cell_type": "code",
   "execution_count": null,
   "metadata": {},
   "outputs": [],
   "source": []
  },
  {
   "cell_type": "code",
   "execution_count": null,
   "metadata": {},
   "outputs": [],
   "source": [
    "# Load the T5 tokenizer and models\n",
    "tokenizer = T5Tokenizer.from_pretrained(\"t5-small\")\n",
    "english_to_lingo_model = T5ForConditionalGeneration.from_pretrained(\"t5-small\")\n",
    "lingo_to_english_model = T5ForConditionalGeneration.from_pretrained(\"t5-small\")\n",
    "\n",
    "# Define the environment that rewards Lingo translations\n",
    "class LingoTranslationEnvironment:\n",
    "    def __init__(self, tokenizer, english_to_lingo_model, lingo_to_english_model):\n",
    "        self.tokenizer = tokenizer\n",
    "        self.english_to_lingo_model = english_to_lingo_model\n",
    "        self.lingo_to_english_model = lingo_to_english_model\n",
    "\n",
    "    def get_reward(self, english_text, lingo_text, back_to_english_text):\n",
    "        # Compute similarity between the original English text and back-to-English translation\n",
    "        similarity = F.cosine_similarity(\n",
    "            torch.tensor(english_text).unsqueeze(0),\n",
    "            torch.tensor(back_to_english_text).unsqueeze(0),\n",
    "        )\n",
    "\n",
    "        # Compute the reward based on translation similarity and Lingo token length\n",
    "        reward = similarity - 0.1 * len(lingo_text.split())\n",
    "\n",
    "        return reward.item()"
   ]
  }
 ],
 "metadata": {
  "kernelspec": {
   "display_name": "pytorch",
   "language": "python",
   "name": "python3"
  },
  "language_info": {
   "codemirror_mode": {
    "name": "ipython",
    "version": 3
   },
   "file_extension": ".py",
   "mimetype": "text/x-python",
   "name": "python",
   "nbconvert_exporter": "python",
   "pygments_lexer": "ipython3",
   "version": "3.9.4"
  },
  "orig_nbformat": 4
 },
 "nbformat": 4,
 "nbformat_minor": 2
}
